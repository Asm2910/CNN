{
 "cells": [
  {
   "cell_type": "markdown",
   "metadata": {},
   "source": [
    "### Import Libraries"
   ]
  },
  {
   "cell_type": "code",
   "execution_count": 15,
   "metadata": {},
   "outputs": [],
   "source": [
    "import torch\n",
    "import torch.nn as nn\n",
    "import torch.nn.functional as F\n",
    "import torch.optim as optim\n",
    "import torchvision\n",
    "from torch.utils.data import DataLoader\n",
    "from torchvision import datasets, transforms\n",
    "from torchsummary import summary\n",
    "import numpy as np\n",
    "import matplotlib.pyplot as plt\n",
    "import os\n",
    "\n",
    "%matplotlib inline"
   ]
  },
  {
   "cell_type": "markdown",
   "metadata": {},
   "source": [
    "### Data Loading and Transformation"
   ]
  },
  {
   "cell_type": "code",
   "execution_count": 4,
   "metadata": {},
   "outputs": [],
   "source": [
    "transform = transforms.Compose([\n",
    "    transforms.ToTensor(),\n",
    "    transforms.Normalize((0.5, 0.5, 0.5), (0.5, 0.5, 0.5))\n",
    "])"
   ]
  },
  {
   "cell_type": "code",
   "execution_count": 7,
   "metadata": {},
   "outputs": [
    {
     "name": "stderr",
     "output_type": "stream",
     "text": [
      "100.0%\n"
     ]
    }
   ],
   "source": [
    "train_dataset = torchvision.datasets.CIFAR10(root='./data', train=True, download=True, transform=transform)\n",
    "test_dataset = torchvision.datasets.CIFAR10(root='./data', train=False, download=True, transform=transform)"
   ]
  },
  {
   "cell_type": "code",
   "execution_count": 9,
   "metadata": {},
   "outputs": [],
   "source": [
    "train_loader = DataLoader(dataset = train_dataset, batch_size = 100, shuffle  = True)\n",
    "test_loader = DataLoader(dataset = test_dataset, batch_size = 100, shuffle  = False)"
   ]
  },
  {
   "cell_type": "markdown",
   "metadata": {},
   "source": [
    "### Define the model"
   ]
  },
  {
   "cell_type": "code",
   "execution_count": 10,
   "metadata": {},
   "outputs": [],
   "source": [
    "class LeNet(nn.Module):\n",
    "\n",
    "    def __init__(self):\n",
    "        super(LeNet, self).__init__()\n",
    "        self.conv1 = nn.Conv2d(in_channels = 3, out_channels = 6, kernel_size = 5, stride = 1)\n",
    "        self.conv2 = nn.Conv2d(in_channels = 6, out_channels = 16, kernel_size = 5, stride = 1)\n",
    "        self.max_pool2d = nn.MaxPool2d(kernel_size = 2, stride = 2)\n",
    "        self.relu = nn.ReLU()\n",
    "        self.fc1 = nn.Linear(in_features = 16*5*5, out_features = 120)\n",
    "        self.fc2 = nn.Linear(in_features = 120, out_features = 84)\n",
    "        self.fc3 = nn.Linear(in_features = 84, out_features = 10)\n",
    "\n",
    "    def forward(self, x):\n",
    "        x = self.conv1(x) # Apply first convolution\n",
    "        x = self.relu(x) # Apply ReLU activation\n",
    "        x = self.max_pool2d(x)  # Apply max pooling\n",
    "        x = self.conv2(x) # Apply second convolution\n",
    "        x = self.relu(x) # Apply ReLU activation\n",
    "        x = self.max_pool2d(x) # Apply max pooling\n",
    "        x = x.view(-1, self.flattened_features(x)) # Flatten the output for the fully connected layers\n",
    "        x = self.relu(self.fc1(x)) # Apply first fully connected layer with ReLU activation\n",
    "        x = self.relu(self.fc2(x)) # Apply second fully connected layer with ReLU activation\n",
    "        x = self.fc3(x) # Output layer (raw logits)\n",
    "        return x\n",
    "    \n",
    "    def flattened_features(self, x):\n",
    "        size = x.size()[1:] # Extract spatial dimensions\n",
    "        num_features = 1\n",
    "        for s in size:\n",
    "            num_features *= s # Compute the flattened feature size\n",
    "        return num_features\n"
   ]
  },
  {
   "cell_type": "markdown",
   "metadata": {},
   "source": [
    "### Model Initialization"
   ]
  },
  {
   "cell_type": "code",
   "execution_count": 12,
   "metadata": {},
   "outputs": [],
   "source": [
    "device = torch.device(\"cuda\" if torch.cuda.is_available() else \"cpu\")\n",
    "model = LeNet().to(device)"
   ]
  },
  {
   "cell_type": "code",
   "execution_count": 16,
   "metadata": {},
   "outputs": [
    {
     "name": "stdout",
     "output_type": "stream",
     "text": [
      "----------------------------------------------------------------\n",
      "        Layer (type)               Output Shape         Param #\n",
      "================================================================\n",
      "            Conv2d-1            [-1, 6, 28, 28]             456\n",
      "              ReLU-2            [-1, 6, 28, 28]               0\n",
      "         MaxPool2d-3            [-1, 6, 14, 14]               0\n",
      "            Conv2d-4           [-1, 16, 10, 10]           2,416\n",
      "              ReLU-5           [-1, 16, 10, 10]               0\n",
      "         MaxPool2d-6             [-1, 16, 5, 5]               0\n",
      "            Linear-7                  [-1, 120]          48,120\n",
      "              ReLU-8                  [-1, 120]               0\n",
      "            Linear-9                   [-1, 84]          10,164\n",
      "             ReLU-10                   [-1, 84]               0\n",
      "           Linear-11                   [-1, 10]             850\n",
      "================================================================\n",
      "Total params: 62,006\n",
      "Trainable params: 62,006\n",
      "Non-trainable params: 0\n",
      "----------------------------------------------------------------\n",
      "Input size (MB): 0.01\n",
      "Forward/backward pass size (MB): 0.11\n",
      "Params size (MB): 0.24\n",
      "Estimated Total Size (MB): 0.36\n",
      "----------------------------------------------------------------\n",
      "None\n"
     ]
    }
   ],
   "source": [
    "print(summary(model, (3, 32, 32)))"
   ]
  },
  {
   "cell_type": "markdown",
   "metadata": {},
   "source": [
    "### Define Loss and Optimizer"
   ]
  },
  {
   "cell_type": "code",
   "execution_count": 17,
   "metadata": {},
   "outputs": [],
   "source": [
    "criterion = nn.CrossEntropyLoss()\n",
    "optimizer = optim.Adam(model.parameters(), lr = 0.001)"
   ]
  },
  {
   "cell_type": "markdown",
   "metadata": {},
   "source": [
    "### Train the Model"
   ]
  },
  {
   "cell_type": "code",
   "execution_count": 18,
   "metadata": {},
   "outputs": [],
   "source": [
    "def train_model(model, train_loader, criterion, optimizer, epochs = 10):\n",
    "    model.train()\n",
    "    for epoch in range(epochs):\n",
    "        running_loss = 0.0\n",
    "        for images, labels in train_loader:\n",
    "            images, labels = images.to(device), labels.to(device) # Move data to the correct device\n",
    "\n",
    "            optimizer.zero_grad() # Zero out previous gradients\n",
    "            outputs = model(images) # Forward pass\n",
    "            loss = criterion(outputs, labels) # Compute loss\n",
    "            loss.backward() # Backpropagation\n",
    "            optimizer.step() # Update model weights\n",
    "\n",
    "            running_loss += loss.item()\n",
    "        print(f\"Epoch [{epoch + 1}/{epochs}], Loss: {running_loss/len(train_loader):.4f}\")\n",
    "    print('Training Complete')"
   ]
  },
  {
   "cell_type": "code",
   "execution_count": 20,
   "metadata": {},
   "outputs": [
    {
     "name": "stdout",
     "output_type": "stream",
     "text": [
      "Epoch [1/25], Loss: 0.9278\n",
      "Epoch [2/25], Loss: 0.9025\n",
      "Epoch [3/25], Loss: 0.8771\n",
      "Epoch [4/25], Loss: 0.8577\n",
      "Epoch [5/25], Loss: 0.8385\n",
      "Epoch [6/25], Loss: 0.8174\n",
      "Epoch [7/25], Loss: 0.8028\n",
      "Epoch [8/25], Loss: 0.7825\n",
      "Epoch [9/25], Loss: 0.7660\n",
      "Epoch [10/25], Loss: 0.7485\n",
      "Epoch [11/25], Loss: 0.7306\n",
      "Epoch [12/25], Loss: 0.7193\n",
      "Epoch [13/25], Loss: 0.7071\n",
      "Epoch [14/25], Loss: 0.6868\n",
      "Epoch [15/25], Loss: 0.6745\n",
      "Epoch [16/25], Loss: 0.6630\n",
      "Epoch [17/25], Loss: 0.6524\n",
      "Epoch [18/25], Loss: 0.6341\n",
      "Epoch [19/25], Loss: 0.6302\n",
      "Epoch [20/25], Loss: 0.6148\n",
      "Epoch [21/25], Loss: 0.6033\n",
      "Epoch [22/25], Loss: 0.5955\n",
      "Epoch [23/25], Loss: 0.5797\n",
      "Epoch [24/25], Loss: 0.5742\n",
      "Epoch [25/25], Loss: 0.5622\n",
      "Training Complete\n"
     ]
    }
   ],
   "source": [
    "train_model(model, train_loader, criterion, optimizer, epochs = 25)"
   ]
  },
  {
   "cell_type": "markdown",
   "metadata": {},
   "source": [
    "### Evaluate the Model"
   ]
  },
  {
   "cell_type": "code",
   "execution_count": 21,
   "metadata": {},
   "outputs": [],
   "source": [
    "def evaluate_model(model, test_loader):\n",
    "    model.eval()\n",
    "    correct = 0\n",
    "    total = 0\n",
    "    with torch.no_grad(): # Disable gradient calculations for inference\n",
    "        for images, labels in test_loader:\n",
    "            images, labels = images.to(device), labels.to(device)\n",
    "            outputs = model(images)\n",
    "            _, predicted = torch.max(outputs, 1) # Get predictions\n",
    "            total += labels.size(0)\n",
    "            correct += (predicted == labels).sum().item()\n",
    "    print(f\"Accuracy: {100 * correct / total:.2f}%\")"
   ]
  },
  {
   "cell_type": "code",
   "execution_count": 22,
   "metadata": {},
   "outputs": [
    {
     "name": "stdout",
     "output_type": "stream",
     "text": [
      "Accuracy: 63.44%\n"
     ]
    }
   ],
   "source": [
    "evaluate_model(model, test_loader)"
   ]
  },
  {
   "cell_type": "markdown",
   "metadata": {},
   "source": [
    "### Visualize Predictions"
   ]
  },
  {
   "cell_type": "code",
   "execution_count": 23,
   "metadata": {},
   "outputs": [],
   "source": [
    "def visualize_pred(model, test_loader):\n",
    "    model.eval()\n",
    "    images, labels = next(iter(test_loader))\n",
    "    images, labels = images.to(device), labels.to(device)\n",
    "    outputs = model(images)\n",
    "    _, predicted = torch.max(outputs, 1)\n",
    "\n",
    "    fig, axes = plt.subplots(1, 10, figsize=(20, 2))\n",
    "    for i in range(5):\n",
    "        img = images[i].cpu().numpy().transpose((1, 2, 0))\n",
    "        img = img * 0.5 + 0.5\n",
    "        axes[i].imshow(img)\n",
    "        axes[i].set_title(f'Actual: {labels[i]}, Predicted: {predicted[i]}')\n",
    "        axes[i].axis('off')\n",
    "    plt.show()"
   ]
  },
  {
   "cell_type": "code",
   "execution_count": 24,
   "metadata": {},
   "outputs": [
    {
     "data": {
      "image/png": "[encoded data removed]",
      "text/plain": [
       "<Figure size 2000x200 with 10 Axes>"
      ]
     },
     "metadata": {},
     "output_type": "display_data"
    }
   ],
   "source": [
    "visualize_pred(model, test_loader)"
   ]
  },
  {
   "cell_type": "code",
   "execution_count": 28,
   "metadata": {},
   "outputs": [
    {
     "name": "stdout",
     "output_type": "stream",
     "text": [
      "Model accuracy for class plane : 68 %\n",
      "Model accuracy for class   car : 73 %\n",
      "Model accuracy for class  bird : 58 %\n",
      "Model accuracy for class   cat : 38 %\n",
      "Model accuracy for class  deer : 59 %\n",
      "Model accuracy for class   dog : 51 %\n",
      "Model accuracy for class  frog : 67 %\n",
      "Model accuracy for class horse : 68 %\n",
      "Model accuracy for class  ship : 76 %\n",
      "Model accuracy for class truck : 74 %\n"
     ]
    }
   ],
   "source": [
    "# Evaluate class-wise accuracy\n",
    "\n",
    "classes = ['plane', 'car', 'bird', 'cat', 'deer', 'dog', 'frog', 'horse', 'ship', 'truck']\n",
    "\n",
    "\n",
    "class_sucess = list(0. for i in range(10))\n",
    "class_counter = list(0. for i in range(10))\n",
    "\n",
    "\n",
    "with torch.no_grad():\n",
    "    for data in test_loader:\n",
    "        im, ground_truth = data\n",
    "        op = model(im)  # Forward pass\n",
    "        _, pred = torch.max(op, 1)  # Get predictions\n",
    "        c = (pred == ground_truth).squeeze()  # Compare predictions with ground truth\n",
    "        for i in range(len(ground_truth)):\n",
    "            ground_truth_curr = ground_truth[i].item()\n",
    "            class_sucess[ground_truth_curr] += c[i].item()\n",
    "            class_counter[ground_truth_curr] += 1\n",
    "\n",
    "# Print accuracy for each class\n",
    "for i in range(10):\n",
    "    print('Model accuracy for class %5s : %2d %%' % (\n",
    "        classes[i], 100 * class_sucess[i] / class_counter[i]))"
   ]
  },
  {
   "cell_type": "code",
   "execution_count": null,
   "metadata": {},
   "outputs": [],
   "source": []
  }
 ],
 "metadata": {
  "kernelspec": {
   "display_name": "myenv",
   "language": "python",
   "name": "python3"
  },
  "language_info": {
   "codemirror_mode": {
    "name": "ipython",
    "version": 3
   },
   "file_extension": ".py",
   "mimetype": "text/x-python",
   "name": "python",
   "nbconvert_exporter": "python",
   "pygments_lexer": "ipython3",
   "version": "3.11.8"
  }
 },
 "nbformat": 4,
 "nbformat_minor": 2
}
